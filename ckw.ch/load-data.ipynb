{
 "cells": [
  {
   "cell_type": "markdown",
   "metadata": {},
   "source": [
    "## Download Sample Smart Meter Data\n",
    "\n",
    "Downloads a sample file from https://axsa4prod4publicdata4sa.blob.core.windows.net/$web/index.html#dataset-b and displays some excerpts and summary statistics."
   ]
  },
  {
   "cell_type": "code",
   "execution_count": 8,
   "metadata": {},
   "outputs": [],
   "source": [
    "import pandas as pd\n",
    "data = pd.read_csv(\"https://axsa4prod4publicdata4sa.blob.core.windows.net/$web/ckw_opendata_smartmeter_dataset_b_202210.csv.gz\")"
   ]
  },
  {
   "cell_type": "markdown",
   "metadata": {},
   "source": [
    "Display the sample data using the pandas default renderer:"
   ]
  },
  {
   "cell_type": "code",
   "execution_count": 9,
   "metadata": {},
   "outputs": [
    {
     "data": {
      "text/html": [
       "<div>\n",
       "<style scoped>\n",
       "    .dataframe tbody tr th:only-of-type {\n",
       "        vertical-align: middle;\n",
       "    }\n",
       "\n",
       "    .dataframe tbody tr th {\n",
       "        vertical-align: top;\n",
       "    }\n",
       "\n",
       "    .dataframe thead th {\n",
       "        text-align: right;\n",
       "    }\n",
       "</style>\n",
       "<table border=\"1\" class=\"dataframe\">\n",
       "  <thead>\n",
       "    <tr style=\"text-align: right;\">\n",
       "      <th></th>\n",
       "      <th>area_code</th>\n",
       "      <th>timestamp</th>\n",
       "      <th>num_meter</th>\n",
       "      <th>value_kwh</th>\n",
       "    </tr>\n",
       "  </thead>\n",
       "  <tbody>\n",
       "    <tr>\n",
       "      <th>0</th>\n",
       "      <td>4806</td>\n",
       "      <td>2022-10-10T18:15:00.000Z</td>\n",
       "      <td>822</td>\n",
       "      <td>106.95225</td>\n",
       "    </tr>\n",
       "    <tr>\n",
       "      <th>1</th>\n",
       "      <td>4806</td>\n",
       "      <td>2022-10-06T18:45:00.000Z</td>\n",
       "      <td>822</td>\n",
       "      <td>92.59300</td>\n",
       "    </tr>\n",
       "    <tr>\n",
       "      <th>2</th>\n",
       "      <td>4806</td>\n",
       "      <td>2022-10-01T11:45:00.000Z</td>\n",
       "      <td>822</td>\n",
       "      <td>93.03100</td>\n",
       "    </tr>\n",
       "    <tr>\n",
       "      <th>3</th>\n",
       "      <td>4806</td>\n",
       "      <td>2022-10-06T16:45:00.000Z</td>\n",
       "      <td>822</td>\n",
       "      <td>92.15500</td>\n",
       "    </tr>\n",
       "    <tr>\n",
       "      <th>4</th>\n",
       "      <td>4806</td>\n",
       "      <td>2022-10-10T08:45:00.000Z</td>\n",
       "      <td>822</td>\n",
       "      <td>76.98200</td>\n",
       "    </tr>\n",
       "    <tr>\n",
       "      <th>...</th>\n",
       "      <td>...</td>\n",
       "      <td>...</td>\n",
       "      <td>...</td>\n",
       "      <td>...</td>\n",
       "    </tr>\n",
       "    <tr>\n",
       "      <th>136027</th>\n",
       "      <td>6331</td>\n",
       "      <td>2022-10-04T20:30:00.000Z</td>\n",
       "      <td>169</td>\n",
       "      <td>21.27500</td>\n",
       "    </tr>\n",
       "    <tr>\n",
       "      <th>136028</th>\n",
       "      <td>6331</td>\n",
       "      <td>2022-10-01T12:45:00.000Z</td>\n",
       "      <td>169</td>\n",
       "      <td>24.21700</td>\n",
       "    </tr>\n",
       "    <tr>\n",
       "      <th>136029</th>\n",
       "      <td>6331</td>\n",
       "      <td>2022-10-07T06:15:00.000Z</td>\n",
       "      <td>169</td>\n",
       "      <td>22.14200</td>\n",
       "    </tr>\n",
       "    <tr>\n",
       "      <th>136030</th>\n",
       "      <td>6331</td>\n",
       "      <td>2022-10-02T01:15:00.000Z</td>\n",
       "      <td>169</td>\n",
       "      <td>9.49700</td>\n",
       "    </tr>\n",
       "    <tr>\n",
       "      <th>136031</th>\n",
       "      <td>6331</td>\n",
       "      <td>2022-10-01T12:15:00.000Z</td>\n",
       "      <td>169</td>\n",
       "      <td>19.23000</td>\n",
       "    </tr>\n",
       "  </tbody>\n",
       "</table>\n",
       "<p>136032 rows × 4 columns</p>\n",
       "</div>"
      ],
      "text/plain": [
       "        area_code                 timestamp  num_meter  value_kwh\n",
       "0            4806  2022-10-10T18:15:00.000Z        822  106.95225\n",
       "1            4806  2022-10-06T18:45:00.000Z        822   92.59300\n",
       "2            4806  2022-10-01T11:45:00.000Z        822   93.03100\n",
       "3            4806  2022-10-06T16:45:00.000Z        822   92.15500\n",
       "4            4806  2022-10-10T08:45:00.000Z        822   76.98200\n",
       "...           ...                       ...        ...        ...\n",
       "136027       6331  2022-10-04T20:30:00.000Z        169   21.27500\n",
       "136028       6331  2022-10-01T12:45:00.000Z        169   24.21700\n",
       "136029       6331  2022-10-07T06:15:00.000Z        169   22.14200\n",
       "136030       6331  2022-10-02T01:15:00.000Z        169    9.49700\n",
       "136031       6331  2022-10-01T12:15:00.000Z        169   19.23000\n",
       "\n",
       "[136032 rows x 4 columns]"
      ]
     },
     "execution_count": 9,
     "metadata": {},
     "output_type": "execute_result"
    }
   ],
   "source": [
    "data"
   ]
  }
 ],
 "metadata": {
  "kernelspec": {
   "display_name": "Python 3.9.12 64-bit",
   "language": "python",
   "name": "python3"
  },
  "language_info": {
   "codemirror_mode": {
    "name": "ipython",
    "version": 3
   },
   "file_extension": ".py",
   "mimetype": "text/x-python",
   "name": "python",
   "nbconvert_exporter": "python",
   "pygments_lexer": "ipython3",
   "version": "3.9.12"
  },
  "orig_nbformat": 4,
  "vscode": {
   "interpreter": {
    "hash": "b0fa6594d8f4cbf19f97940f81e996739fb7646882a419484c72d19e05852a7e"
   }
  }
 },
 "nbformat": 4,
 "nbformat_minor": 2
}
