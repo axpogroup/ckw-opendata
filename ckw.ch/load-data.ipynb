{
 "cells": [
  {
   "cell_type": "markdown",
   "metadata": {},
   "source": [
    "## Download Sample Smart Meter Data\n",
    "\n",
    "Downloads a sample file referenced on https://www.ckw.ch/lp/opendata.html .\n",
    "\n",
    "In this case, we refer to one of the files indicated in data set \"B\", namely aggregated data per zip code.\n",
    "\n",
    "https://axsa4prod4publicdata4sa.blob.core.windows.net/$web/index.html#dataset-b \n",
    "\n",
    "We proceed to retrieve and parse the file and display some excerpts and summary statistics."
   ]
  },
  {
   "cell_type": "code",
   "execution_count": 8,
   "metadata": {},
   "outputs": [],
   "source": [
    "import pandas as pd\n",
    "data = pd.read_csv(\"https://axsa4prod4publicdata4sa.blob.core.windows.net/$web/ckw_opendata_smartmeter_dataset_b_202210.csv.gz\")"
   ]
  },
  {
   "cell_type": "markdown",
   "metadata": {},
   "source": [
    "Display the sample data using the pandas default renderer:"
   ]
  },
  {
   "cell_type": "code",
   "execution_count": 11,
   "metadata": {},
   "outputs": [
    {
     "data": {
      "text/html": [
       "<div>\n",
       "<style scoped>\n",
       "    .dataframe tbody tr th:only-of-type {\n",
       "        vertical-align: middle;\n",
       "    }\n",
       "\n",
       "    .dataframe tbody tr th {\n",
       "        vertical-align: top;\n",
       "    }\n",
       "\n",
       "    .dataframe thead th {\n",
       "        text-align: right;\n",
       "    }\n",
       "</style>\n",
       "<table border=\"1\" class=\"dataframe\">\n",
       "  <thead>\n",
       "    <tr style=\"text-align: right;\">\n",
       "      <th></th>\n",
       "      <th>area_code</th>\n",
       "      <th>timestamp</th>\n",
       "      <th>num_meter</th>\n",
       "      <th>value_kwh</th>\n",
       "    </tr>\n",
       "  </thead>\n",
       "  <tbody>\n",
       "    <tr>\n",
       "      <th>0</th>\n",
       "      <td>4806</td>\n",
       "      <td>2022-10-10T18:15:00.000Z</td>\n",
       "      <td>822</td>\n",
       "      <td>106.95225</td>\n",
       "    </tr>\n",
       "    <tr>\n",
       "      <th>1</th>\n",
       "      <td>4806</td>\n",
       "      <td>2022-10-06T18:45:00.000Z</td>\n",
       "      <td>822</td>\n",
       "      <td>92.59300</td>\n",
       "    </tr>\n",
       "    <tr>\n",
       "      <th>2</th>\n",
       "      <td>4806</td>\n",
       "      <td>2022-10-01T11:45:00.000Z</td>\n",
       "      <td>822</td>\n",
       "      <td>93.03100</td>\n",
       "    </tr>\n",
       "    <tr>\n",
       "      <th>3</th>\n",
       "      <td>4806</td>\n",
       "      <td>2022-10-06T16:45:00.000Z</td>\n",
       "      <td>822</td>\n",
       "      <td>92.15500</td>\n",
       "    </tr>\n",
       "    <tr>\n",
       "      <th>4</th>\n",
       "      <td>4806</td>\n",
       "      <td>2022-10-10T08:45:00.000Z</td>\n",
       "      <td>822</td>\n",
       "      <td>76.98200</td>\n",
       "    </tr>\n",
       "    <tr>\n",
       "      <th>...</th>\n",
       "      <td>...</td>\n",
       "      <td>...</td>\n",
       "      <td>...</td>\n",
       "      <td>...</td>\n",
       "    </tr>\n",
       "    <tr>\n",
       "      <th>136027</th>\n",
       "      <td>6331</td>\n",
       "      <td>2022-10-04T20:30:00.000Z</td>\n",
       "      <td>169</td>\n",
       "      <td>21.27500</td>\n",
       "    </tr>\n",
       "    <tr>\n",
       "      <th>136028</th>\n",
       "      <td>6331</td>\n",
       "      <td>2022-10-01T12:45:00.000Z</td>\n",
       "      <td>169</td>\n",
       "      <td>24.21700</td>\n",
       "    </tr>\n",
       "    <tr>\n",
       "      <th>136029</th>\n",
       "      <td>6331</td>\n",
       "      <td>2022-10-07T06:15:00.000Z</td>\n",
       "      <td>169</td>\n",
       "      <td>22.14200</td>\n",
       "    </tr>\n",
       "    <tr>\n",
       "      <th>136030</th>\n",
       "      <td>6331</td>\n",
       "      <td>2022-10-02T01:15:00.000Z</td>\n",
       "      <td>169</td>\n",
       "      <td>9.49700</td>\n",
       "    </tr>\n",
       "    <tr>\n",
       "      <th>136031</th>\n",
       "      <td>6331</td>\n",
       "      <td>2022-10-01T12:15:00.000Z</td>\n",
       "      <td>169</td>\n",
       "      <td>19.23000</td>\n",
       "    </tr>\n",
       "  </tbody>\n",
       "</table>\n",
       "<p>136032 rows × 4 columns</p>\n",
       "</div>"
      ],
      "text/plain": [
       "        area_code                 timestamp  num_meter  value_kwh\n",
       "0            4806  2022-10-10T18:15:00.000Z        822  106.95225\n",
       "1            4806  2022-10-06T18:45:00.000Z        822   92.59300\n",
       "2            4806  2022-10-01T11:45:00.000Z        822   93.03100\n",
       "3            4806  2022-10-06T16:45:00.000Z        822   92.15500\n",
       "4            4806  2022-10-10T08:45:00.000Z        822   76.98200\n",
       "...           ...                       ...        ...        ...\n",
       "136027       6331  2022-10-04T20:30:00.000Z        169   21.27500\n",
       "136028       6331  2022-10-01T12:45:00.000Z        169   24.21700\n",
       "136029       6331  2022-10-07T06:15:00.000Z        169   22.14200\n",
       "136030       6331  2022-10-02T01:15:00.000Z        169    9.49700\n",
       "136031       6331  2022-10-01T12:15:00.000Z        169   19.23000\n",
       "\n",
       "[136032 rows x 4 columns]"
      ]
     },
     "execution_count": 11,
     "metadata": {},
     "output_type": "execute_result"
    }
   ],
   "source": [
    "data"
   ]
  },
  {
   "cell_type": "markdown",
   "metadata": {},
   "source": [
    "Determine the zip codes with the highest turn over in kWh:"
   ]
  },
  {
   "cell_type": "code",
   "execution_count": 88,
   "metadata": {},
   "outputs": [
    {
     "data": {
      "text/html": [
       "<div>\n",
       "<style scoped>\n",
       "    .dataframe tbody tr th:only-of-type {\n",
       "        vertical-align: middle;\n",
       "    }\n",
       "\n",
       "    .dataframe tbody tr th {\n",
       "        vertical-align: top;\n",
       "    }\n",
       "\n",
       "    .dataframe thead th {\n",
       "        text-align: right;\n",
       "    }\n",
       "</style>\n",
       "<table border=\"1\" class=\"dataframe\">\n",
       "  <thead>\n",
       "    <tr style=\"text-align: right;\">\n",
       "      <th></th>\n",
       "      <th>value_kwh</th>\n",
       "    </tr>\n",
       "    <tr>\n",
       "      <th>area_code</th>\n",
       "      <th></th>\n",
       "    </tr>\n",
       "  </thead>\n",
       "  <tbody>\n",
       "    <tr>\n",
       "      <th>6030</th>\n",
       "      <td>826040.915437</td>\n",
       "    </tr>\n",
       "    <tr>\n",
       "      <th>6045</th>\n",
       "      <td>608688.274972</td>\n",
       "    </tr>\n",
       "    <tr>\n",
       "      <th>6020</th>\n",
       "      <td>537313.800619</td>\n",
       "    </tr>\n",
       "    <tr>\n",
       "      <th>6130</th>\n",
       "      <td>520205.895393</td>\n",
       "    </tr>\n",
       "    <tr>\n",
       "      <th>6032</th>\n",
       "      <td>443125.244745</td>\n",
       "    </tr>\n",
       "    <tr>\n",
       "      <th>6017</th>\n",
       "      <td>409137.665508</td>\n",
       "    </tr>\n",
       "    <tr>\n",
       "      <th>6043</th>\n",
       "      <td>396495.265319</td>\n",
       "    </tr>\n",
       "    <tr>\n",
       "      <th>6260</th>\n",
       "      <td>347414.081868</td>\n",
       "    </tr>\n",
       "    <tr>\n",
       "      <th>6033</th>\n",
       "      <td>333803.010334</td>\n",
       "    </tr>\n",
       "    <tr>\n",
       "      <th>6110</th>\n",
       "      <td>330897.664262</td>\n",
       "    </tr>\n",
       "  </tbody>\n",
       "</table>\n",
       "</div>"
      ],
      "text/plain": [
       "               value_kwh\n",
       "area_code               \n",
       "6030       826040.915437\n",
       "6045       608688.274972\n",
       "6020       537313.800619\n",
       "6130       520205.895393\n",
       "6032       443125.244745\n",
       "6017       409137.665508\n",
       "6043       396495.265319\n",
       "6260       347414.081868\n",
       "6033       333803.010334\n",
       "6110       330897.664262"
      ]
     },
     "execution_count": 88,
     "metadata": {},
     "output_type": "execute_result"
    }
   ],
   "source": [
    "toByZip = data.groupby('area_code')['value_kwh'].sum()\n",
    "\n",
    "top10ZipCodes = toByZip.to_frame().sort_values(by = 'value_kwh', ascending=False).head(10)\n",
    "top10ZipCodes"
   ]
  },
  {
   "cell_type": "code",
   "execution_count": 90,
   "metadata": {},
   "outputs": [
    {
     "data": {
      "text/plain": [
       "6030"
      ]
     },
     "execution_count": 90,
     "metadata": {},
     "output_type": "execute_result"
    }
   ],
   "source": [
    "topZipCode = top10ZipCodes.iloc[0].name\n",
    "topZipCode"
   ]
  },
  {
   "cell_type": "markdown",
   "metadata": {},
   "source": [
    "Time series for the top zip code:"
   ]
  },
  {
   "cell_type": "code",
   "execution_count": null,
   "metadata": {},
   "outputs": [],
   "source": []
  },
  {
   "cell_type": "code",
   "execution_count": 96,
   "metadata": {},
   "outputs": [
    {
     "data": {
      "text/html": [
       "<div>\n",
       "<style scoped>\n",
       "    .dataframe tbody tr th:only-of-type {\n",
       "        vertical-align: middle;\n",
       "    }\n",
       "\n",
       "    .dataframe tbody tr th {\n",
       "        vertical-align: top;\n",
       "    }\n",
       "\n",
       "    .dataframe thead th {\n",
       "        text-align: right;\n",
       "    }\n",
       "</style>\n",
       "<table border=\"1\" class=\"dataframe\">\n",
       "  <thead>\n",
       "    <tr style=\"text-align: right;\">\n",
       "      <th></th>\n",
       "      <th>timestamp</th>\n",
       "      <th>num_meter</th>\n",
       "      <th>value_kwh</th>\n",
       "    </tr>\n",
       "  </thead>\n",
       "  <tbody>\n",
       "    <tr>\n",
       "      <th>521</th>\n",
       "      <td>2022-10-06T08:00:00.000Z</td>\n",
       "      <td>8164</td>\n",
       "      <td>712.076250</td>\n",
       "    </tr>\n",
       "    <tr>\n",
       "      <th>522</th>\n",
       "      <td>2022-10-10T08:15:00.000Z</td>\n",
       "      <td>8163</td>\n",
       "      <td>783.807896</td>\n",
       "    </tr>\n",
       "    <tr>\n",
       "      <th>523</th>\n",
       "      <td>2022-10-03T10:00:00.000Z</td>\n",
       "      <td>1486</td>\n",
       "      <td>160.729000</td>\n",
       "    </tr>\n",
       "    <tr>\n",
       "      <th>524</th>\n",
       "      <td>2022-10-10T18:00:00.000Z</td>\n",
       "      <td>8164</td>\n",
       "      <td>997.468360</td>\n",
       "    </tr>\n",
       "    <tr>\n",
       "      <th>525</th>\n",
       "      <td>2022-10-12T07:30:00.000Z</td>\n",
       "      <td>7419</td>\n",
       "      <td>701.695000</td>\n",
       "    </tr>\n",
       "    <tr>\n",
       "      <th>...</th>\n",
       "      <td>...</td>\n",
       "      <td>...</td>\n",
       "      <td>...</td>\n",
       "    </tr>\n",
       "    <tr>\n",
       "      <th>135566</th>\n",
       "      <td>2022-10-03T12:15:00.000Z</td>\n",
       "      <td>8105</td>\n",
       "      <td>793.541500</td>\n",
       "    </tr>\n",
       "    <tr>\n",
       "      <th>135567</th>\n",
       "      <td>2022-10-03T23:00:00.000Z</td>\n",
       "      <td>8168</td>\n",
       "      <td>729.845000</td>\n",
       "    </tr>\n",
       "    <tr>\n",
       "      <th>135568</th>\n",
       "      <td>2022-10-02T20:15:00.000Z</td>\n",
       "      <td>8152</td>\n",
       "      <td>711.779500</td>\n",
       "    </tr>\n",
       "    <tr>\n",
       "      <th>135569</th>\n",
       "      <td>2022-10-02T22:45:00.000Z</td>\n",
       "      <td>7826</td>\n",
       "      <td>584.245750</td>\n",
       "    </tr>\n",
       "    <tr>\n",
       "      <th>135570</th>\n",
       "      <td>2022-10-01T06:00:00.000Z</td>\n",
       "      <td>8168</td>\n",
       "      <td>723.949750</td>\n",
       "    </tr>\n",
       "  </tbody>\n",
       "</table>\n",
       "<p>1117 rows × 3 columns</p>\n",
       "</div>"
      ],
      "text/plain": [
       "                       timestamp  num_meter   value_kwh\n",
       "521     2022-10-06T08:00:00.000Z       8164  712.076250\n",
       "522     2022-10-10T08:15:00.000Z       8163  783.807896\n",
       "523     2022-10-03T10:00:00.000Z       1486  160.729000\n",
       "524     2022-10-10T18:00:00.000Z       8164  997.468360\n",
       "525     2022-10-12T07:30:00.000Z       7419  701.695000\n",
       "...                          ...        ...         ...\n",
       "135566  2022-10-03T12:15:00.000Z       8105  793.541500\n",
       "135567  2022-10-03T23:00:00.000Z       8168  729.845000\n",
       "135568  2022-10-02T20:15:00.000Z       8152  711.779500\n",
       "135569  2022-10-02T22:45:00.000Z       7826  584.245750\n",
       "135570  2022-10-01T06:00:00.000Z       8168  723.949750\n",
       "\n",
       "[1117 rows x 3 columns]"
      ]
     },
     "execution_count": 96,
     "metadata": {},
     "output_type": "execute_result"
    }
   ],
   "source": [
    "topTs = data.loc[data['area_code'] == topZipCode][[\"timestamp\", \"num_meter\", \"value_kwh\"]]\n",
    "topTs"
   ]
  },
  {
   "cell_type": "code",
   "execution_count": 99,
   "metadata": {},
   "outputs": [
    {
     "data": {
      "text/plain": [
       "<AxesSubplot:xlabel='timestamp'>"
      ]
     },
     "execution_count": 99,
     "metadata": {},
     "output_type": "execute_result"
    },
    {
     "data": {
      "image/png": "[encoded data removed]",
      "text/plain": [
       "<Figure size 432x288 with 1 Axes>"
      ]
     },
     "metadata": {
      "needs_background": "light"
     },
     "output_type": "display_data"
    }
   ],
   "source": [
    "topTs.plot(x=\"timestamp\", y=[\"num_meter\"])"
   ]
  },
  {
   "cell_type": "code",
   "execution_count": 100,
   "metadata": {},
   "outputs": [
    {
     "data": {
      "text/plain": [
       "<AxesSubplot:xlabel='timestamp'>"
      ]
     },
     "execution_count": 100,
     "metadata": {},
     "output_type": "execute_result"
    },
    {
     "data": {
      "image/png": "[encoded data removed]",
      "text/plain": [
       "<Figure size 432x288 with 1 Axes>"
      ]
     },
     "metadata": {
      "needs_background": "light"
     },
     "output_type": "display_data"
    }
   ],
   "source": [
    "topTs.plot(x=\"timestamp\", y=[\"value_kwh\"])"
   ]
  }
 ],
 "metadata": {
  "kernelspec": {
   "display_name": "Python 3.9.12 64-bit",
   "language": "python",
   "name": "python3"
  },
  "language_info": {
   "codemirror_mode": {
    "name": "ipython",
    "version": 3
   },
   "file_extension": ".py",
   "mimetype": "text/x-python",
   "name": "python",
   "nbconvert_exporter": "python",
   "pygments_lexer": "ipython3",
   "version": "3.9.12"
  },
  "orig_nbformat": 4,
  "vscode": {
   "interpreter": {
    "hash": "b0fa6594d8f4cbf19f97940f81e996739fb7646882a419484c72d19e05852a7e"
   }
  }
 },
 "nbformat": 4,
 "nbformat_minor": 2
}
